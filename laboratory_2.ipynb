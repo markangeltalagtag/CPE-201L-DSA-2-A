{
  "nbformat": 4,
  "nbformat_minor": 0,
  "metadata": {
    "colab": {
      "provenance": [],
      "authorship_tag": "ABX9TyML5HVidphowstSUP2pMi+5",
      "include_colab_link": true
    },
    "kernelspec": {
      "name": "python3",
      "display_name": "Python 3"
    },
    "language_info": {
      "name": "python"
    }
  },
  "cells": [
    {
      "cell_type": "markdown",
      "metadata": {
        "id": "view-in-github",
        "colab_type": "text"
      },
      "source": [
        "<a href=\"https://colab.research.google.com/github/markangeltalagtag/CPE-201L-DSA-2-A/blob/main/laboratory_2.ipynb\" target=\"_parent\"><img src=\"https://colab.research.google.com/assets/colab-badge.svg\" alt=\"Open In Colab\"/></a>"
      ]
    },
    {
      "cell_type": "code",
      "execution_count": 1,
      "metadata": {
        "colab": {
          "base_uri": "https://localhost:8080/"
        },
        "id": "xovjeFVOCzRt",
        "outputId": "78821de1-e761-4ac8-ed99-718fcd9f86fc"
      },
      "outputs": [
        {
          "output_type": "stream",
          "name": "stdout",
          "text": [
            "Minimum: -5\n",
            "Maximum: 9\n"
          ]
        }
      ],
      "source": [
        "def find_min_max(seq):\n",
        "    length = len(seq)\n",
        "\n",
        "    if length == 1:\n",
        "        single_value = seq[0]\n",
        "        return single_value, single_value\n",
        "    else:\n",
        "        first_value = seq[0]\n",
        "        remaining_values = seq[1:]\n",
        "\n",
        "        min_rest, max_rest = find_min_max(remaining_values)\n",
        "        min_value = min(first_value, min_rest)\n",
        "        max_value = max(first_value, max_rest)\n",
        "\n",
        "        return min_value, max_value\n",
        "\n",
        "\n",
        "# Example usage\n",
        "numbers = [3, 1, 9, -5, 7]\n",
        "minimum, maximum = find_min_max(numbers)\n",
        "print(\"Minimum:\", minimum)\n",
        "print(\"Maximum:\", maximum)"
      ]
    }
  ]
}