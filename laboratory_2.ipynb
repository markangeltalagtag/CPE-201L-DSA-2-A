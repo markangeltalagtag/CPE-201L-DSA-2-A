{
  "nbformat": 4,
  "nbformat_minor": 0,
  "metadata": {
    "colab": {
      "provenance": [],
      "authorship_tag": "ABX9TyM3jJOunSgexd3ClWHAplvs",
      "include_colab_link": true
    },
    "kernelspec": {
      "name": "python3",
      "display_name": "Python 3"
    },
    "language_info": {
      "name": "python"
    }
  },
  "cells": [
    {
      "cell_type": "markdown",
      "metadata": {
        "id": "view-in-github",
        "colab_type": "text"
      },
      "source": [
        "<a href=\"https://colab.research.google.com/github/markangeltalagtag/CPE-201L-DSA-2-A/blob/main/laboratory_2.ipynb\" target=\"_parent\"><img src=\"https://colab.research.google.com/assets/colab-badge.svg\" alt=\"Open In Colab\"/></a>"
      ]
    },
    {
      "cell_type": "code",
      "execution_count": 15,
      "metadata": {
        "colab": {
          "base_uri": "https://localhost:8080/"
        },
        "id": "eYOnOqLsbtSi",
        "outputId": "f7fd2dad-c17f-4ebf-b3f5-bad38a10b709"
      },
      "outputs": [
        {
          "output_type": "stream",
          "name": "stdout",
          "text": [
            "Starting the process...\n",
            "Process complete. Proceeding to output result...\n",
            "Sum of even test scores: 186\n",
            "End of process.\n"
          ]
        }
      ],
      "source": [
        "scores = [26, 49, 98, 87, 62, 75]\n",
        "sum_of_evens = 0\n",
        "print(\"Starting the process...\")\n",
        "\n",
        "for score in scores:\n",
        "\n",
        "    if score % 2 == 0:\n",
        "        sum_of_evens += score\n",
        "\n",
        "print(\"Process complete. Proceeding to output result...\")\n",
        "print(\"Sum of even test scores:\", sum_of_evens)\n",
        "temp_result = sum_of_evens + extra_variable\n",
        "print(\"End of process.\")\n"
      ]
    }
  ]
}