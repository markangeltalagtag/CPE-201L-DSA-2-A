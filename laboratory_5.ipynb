{
  "nbformat": 4,
  "nbformat_minor": 0,
  "metadata": {
    "colab": {
      "provenance": [],
      "authorship_tag": "ABX9TyPOm37rnLYmeuM+nPLn7rou",
      "include_colab_link": true
    },
    "kernelspec": {
      "name": "python3",
      "display_name": "Python 3"
    },
    "language_info": {
      "name": "python"
    }
  },
  "cells": [
    {
      "cell_type": "markdown",
      "metadata": {
        "id": "view-in-github",
        "colab_type": "text"
      },
      "source": [
        "<a href=\"https://colab.research.google.com/github/markangeltalagtag/CPE-201L-DSA-2-A/blob/main/laboratory_5.ipynb\" target=\"_parent\"><img src=\"https://colab.research.google.com/assets/colab-badge.svg\" alt=\"Open In Colab\"/></a>"
      ]
    },
    {
      "cell_type": "code",
      "execution_count": null,
      "metadata": {
        "colab": {
          "base_uri": "https://localhost:8080/"
        },
        "id": "a8KblQcjedxL",
        "outputId": "cb5c16d9-4b30-4674-e0db-9767effe88cc"
      },
      "outputs": [
        {
          "output_type": "stream",
          "name": "stdout",
          "text": [
            "Enter a number: 100\n",
            "Updated array: [1, 2, 3, 4, 5, 6, 7, 8, 9, 10, 100]\n"
          ]
        }
      ],
      "source": [
        "numbers = [1, 2, 3, 4, 5, 6, 7, 8, 9, 10]\n",
        "\n",
        "new_item = int(input(\"Enter a number: \"))\n",
        "\n",
        "numbers.insert(10, new_item)\n",
        "\n",
        "# Print the updated array\n",
        "print(\"Updated array:\", numbers)\n"
      ]
    },
    {
      "cell_type": "code",
      "source": [
        "numbers = [12, 34, 56, 78, 90, 23, 45, 67, 89, 12]\n",
        "print(\"Array items:\")\n",
        "for num in numbers:\n",
        "    print(num)\n",
        "\n",
        "\n",
        "print(\"\\nAccessing individual elements:\")\n",
        "for i in range(len(numbers)):\n",
        "    print(f\"Element at index {i}: {numbers[i]}\")\n",
        "\n",
        "\n",
        "total_sum = sum(numbers)\n",
        "\n",
        "print(\"\\nSum of the array elements:\", total_sum)"
      ],
      "metadata": {
        "colab": {
          "base_uri": "https://localhost:8080/"
        },
        "id": "X6evfDGcehTd",
        "outputId": "2b28a035-0928-40bd-afe9-cdf09c957060"
      },
      "execution_count": null,
      "outputs": [
        {
          "output_type": "stream",
          "name": "stdout",
          "text": [
            "Array items:\n",
            "12\n",
            "34\n",
            "56\n",
            "78\n",
            "90\n",
            "23\n",
            "45\n",
            "67\n",
            "89\n",
            "12\n",
            "\n",
            "Accessing individual elements:\n",
            "Element at index 0: 12\n",
            "Element at index 1: 34\n",
            "Element at index 2: 56\n",
            "Element at index 3: 78\n",
            "Element at index 4: 90\n",
            "Element at index 5: 23\n",
            "Element at index 6: 45\n",
            "Element at index 7: 67\n",
            "Element at index 8: 89\n",
            "Element at index 9: 12\n",
            "\n",
            "Sum of the array elements: 506\n"
          ]
        }
      ]
    },
    {
      "cell_type": "code",
      "source": [
        "\n",
        "numbers = [1, 2, 3, 4, 5, 6, 7, 8, 9, 10]\n",
        "\n",
        "new_item = int(input(\"Enter a number: \"))\n",
        "\n",
        "numbers.insert(1, new_item)\n",
        "\n",
        "# Print the updated array\n",
        "print(\"Updated array:\", numbers)\n"
      ],
      "metadata": {
        "colab": {
          "base_uri": "https://localhost:8080/"
        },
        "id": "rHEQjtVnepJt",
        "outputId": "5a52a932-f497-4dfb-966f-0eb9447677d7"
      },
      "execution_count": null,
      "outputs": [
        {
          "output_type": "stream",
          "name": "stdout",
          "text": [
            "Enter a number: 123\n",
            "Updated array: [1, 123, 2, 3, 4, 5, 6, 7, 8, 9, 10]\n"
          ]
        }
      ]
    },
    {
      "cell_type": "code",
      "source": [
        "numbers = [5, 4, 3, 2, 1]\n",
        "numbers.reverse()\n",
        "print(\"Reversed array:\", numbers)\n"
      ],
      "metadata": {
        "colab": {
          "base_uri": "https://localhost:8080/"
        },
        "id": "Lbs_ib41fKI1",
        "outputId": "f71caa13-3ebf-468c-b1b4-9081d6c31949"
      },
      "execution_count": null,
      "outputs": [
        {
          "output_type": "stream",
          "name": "stdout",
          "text": [
            "Reversed array: [1, 2, 3, 4, 5]\n"
          ]
        }
      ]
    },
    {
      "cell_type": "code",
      "source": [
        "class Stack:\n",
        "    def __init__(self):\n",
        "        self.stack = []\n",
        "\n",
        "    def push(self, dataval):\n",
        "        # Use list append method to add element\n",
        "        if dataval not in self.stack:\n",
        "            self.stack.append(dataval)\n",
        "            return True\n",
        "        else:\n",
        "            return False\n",
        "\n",
        "    def pop(self):\n",
        "        # Remove and return the top element (last in first out)\n",
        "        if len(self.stack) <= 0:\n",
        "            return \"Stack is empty\"\n",
        "        else:\n",
        "            return self.stack.pop()\n",
        "\n",
        "AStack = Stack()\n",
        "AStack.push(\"Mon\")\n",
        "AStack.push(\"Tue\")\n",
        "AStack.push(\"Wed\")\n",
        "class Stack:\n",
        "    def __init__(self):\n",
        "        self.stack = []\n",
        "\n",
        "    def push(self, dataval):\n",
        "        # Use list append method to add element\n",
        "        if dataval not in self.stack:\n",
        "            self.stack.append(dataval)\n",
        "            return True\n",
        "        else:\n",
        "            return False\n",
        "\n",
        "    def pop(self):\n",
        "        # Remove and return the top element (last in first out)\n",
        "        if len(self.stack) <= 0:\n",
        "            return \"Stack is empty\"\n",
        "        else:\n",
        "            return self.stack.pop()\n",
        "    def retrieve(self):\n",
        "      for item in reversed(self.stack):\n",
        "        print(item)\n",
        "\n",
        "AStack = Stack()\n",
        "AStack.push(\"Sun\")\n",
        "AStack.push(\"Mon\")\n",
        "AStack.push(\"Tue\")\n",
        "AStack.push(\"Wed\")\n",
        "AStack.push(\"Thu\")\n",
        "AStack.push(\"Fri\")\n",
        "AStack.push(\"Sat\")\n",
        "#AStack.display()\n",
        "AStack.retrieve()"
      ],
      "metadata": {
        "colab": {
          "base_uri": "https://localhost:8080/"
        },
        "id": "wlss0vSk8Ycl",
        "outputId": "2b8e3404-43bb-4812-bcdd-d0386e6ea151"
      },
      "execution_count": null,
      "outputs": [
        {
          "output_type": "stream",
          "name": "stdout",
          "text": [
            "Sat\n",
            "Fri\n",
            "Thu\n",
            "Wed\n",
            "Tue\n",
            "Mon\n",
            "Sun\n"
          ]
        }
      ]
    },
    {
      "cell_type": "code",
      "source": [
        "print (\"['Sun', 'Mon', 'Tue', 'Wed', 'Thu', 'Fri', 'Sat']\")"
      ],
      "metadata": {
        "colab": {
          "base_uri": "https://localhost:8080/"
        },
        "id": "Kwd-rUYX_E4I",
        "outputId": "1f34246d-f462-4848-9915-a47949594679"
      },
      "execution_count": null,
      "outputs": [
        {
          "output_type": "stream",
          "name": "stdout",
          "text": [
            "['Sun', 'Mon', 'Tue', 'Wed', 'Thu', 'Fri', 'Sat']\n"
          ]
        }
      ]
    }
  ]
}