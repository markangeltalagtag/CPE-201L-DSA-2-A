{
  "nbformat": 4,
  "nbformat_minor": 0,
  "metadata": {
    "colab": {
      "provenance": [],
      "authorship_tag": "ABX9TyO0zjXiVBVt3qjkZ1RDRkEA",
      "include_colab_link": true
    },
    "kernelspec": {
      "name": "python3",
      "display_name": "Python 3"
    },
    "language_info": {
      "name": "python"
    }
  },
  "cells": [
    {
      "cell_type": "markdown",
      "metadata": {
        "id": "view-in-github",
        "colab_type": "text"
      },
      "source": [
        "<a href=\"https://colab.research.google.com/github/markangeltalagtag/CPE-201L-DSA-2-A/blob/main/laboratory_6.ipynb\" target=\"_parent\"><img src=\"https://colab.research.google.com/assets/colab-badge.svg\" alt=\"Open In Colab\"/></a>"
      ]
    },
    {
      "cell_type": "code",
      "source": [
        "class Node:\n",
        "    def __init__(self, data):\n",
        "        self.data = data\n",
        "        self.next = None\n",
        "\n",
        "class SinglyLinkedList:\n",
        "    def __init__(self):\n",
        "        self.head = None\n",
        "        self.tail = None\n",
        "\n",
        "    def append(self, data):\n",
        "        new_node = Node(data)\n",
        "        if not self.head:\n",
        "            self.head = new_node\n",
        "        else:\n",
        "            self.tail.next = new_node\n",
        "        self.tail = new_node\n",
        "\n",
        "    def display(self):\n",
        "        current = self.head\n",
        "        while current:\n",
        "            print(current.data, end=\" , \")\n",
        "            current = current.next\n",
        "        print(\"None\")\n",
        "\n",
        "def is_prime(num):\n",
        "    if num < 2:\n",
        "        return False\n",
        "    for i in range(2, int(num**0.5) + 1):\n",
        "        if num % i == 0:\n",
        "            return False\n",
        "    return True\n",
        "\n",
        "# Create a SINGLY link list of prime Numbers less than 20\n",
        "prime_list = SinglyLinkedList()\n",
        "for number in range(20):\n",
        "    if is_prime(number):\n",
        "        prime_list.append(number)\n",
        "\n",
        "# Display the list and head/tail\n",
        "prime_list.display()\n",
        "print(f\"Head: {prime_list.head.data if prime_list.head else None}\")\n",
        "print(f\"Tail: {prime_list.tail.data if prime_list.tail else None}\")\n"
      ],
      "metadata": {
        "colab": {
          "base_uri": "https://localhost:8080/"
        },
        "id": "eQ6eF8vgncKv",
        "outputId": "cec0ba12-e993-4df4-97e2-d0e8c86871da"
      },
      "execution_count": 8,
      "outputs": [
        {
          "output_type": "stream",
          "name": "stdout",
          "text": [
            "2 , 3 , 5 , 7 , 11 , 13 , 17 , 19 , None\n",
            "Head: 2\n",
            "Tail: 19\n"
          ]
        }
      ]
    }
  ]
}