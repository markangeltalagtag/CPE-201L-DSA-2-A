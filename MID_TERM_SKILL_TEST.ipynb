{
  "nbformat": 4,
  "nbformat_minor": 0,
  "metadata": {
    "colab": {
      "provenance": [],
      "authorship_tag": "ABX9TyOZ2+6H79cyv5fZ3VNbzg4i",
      "include_colab_link": true
    },
    "kernelspec": {
      "name": "python3",
      "display_name": "Python 3"
    },
    "language_info": {
      "name": "python"
    }
  },
  "cells": [
    {
      "cell_type": "markdown",
      "metadata": {
        "id": "view-in-github",
        "colab_type": "text"
      },
      "source": [
        "<a href=\"https://colab.research.google.com/github/markangeltalagtag/CPE-201L-DSA-2-A/blob/main/MID_TERM_SKILL_TEST.ipynb\" target=\"_parent\"><img src=\"https://colab.research.google.com/assets/colab-badge.svg\" alt=\"Open In Colab\"/></a>"
      ]
    },
    {
      "cell_type": "code",
      "execution_count": 55,
      "metadata": {
        "colab": {
          "base_uri": "https://localhost:8080/"
        },
        "id": "mRVbCf_sA539",
        "outputId": "bafe5f7f-0625-4a49-e2d5-d850e846583b"
      },
      "outputs": [
        {
          "output_type": "stream",
          "name": "stdout",
          "text": [
            "array elements: [20, 22, 24, 26, 28, 30, 32, 34, 36, 38, 40, 42, 44, 46, 48]\n",
            "maximum element: 50\n",
            "reversed element: [48, 46, 44, 42, 40, 38, 36, 34, 32, 30, 28, 26, 24, 22, 50]\n"
          ]
        }
      ],
      "source": [
        "arr = [i for i in range(20, 50, 2)]\n",
        "print(\"array elements:\", arr)\n",
        "arr[0] = 14\n",
        "arr[0] = 20\n",
        "arr[0] = 22\n",
        "arr[0] = 25\n",
        "arr[0] = 24\n",
        "arr[0] = 26\n",
        "arr[0] = 28\n",
        "arr[0] = 30\n",
        "arr[0] = 32\n",
        "arr[0] = 34\n",
        "arr[0] = 36\n",
        "arr[0] = 38\n",
        "arr[0] = 40\n",
        "arr[0] = 42\n",
        "arr[0] = 44\n",
        "arr[0] = 46\n",
        "arr[0] = 48\n",
        "arr[0] = 50\n",
        "max_element = max(arr)\n",
        "print(\"maximum element:\", max_element)\n",
        "reversed_arr = arr[::-1]\n",
        "print(\"reversed element:\", reversed_arr)\n"
      ]
    },
    {
      "cell_type": "code",
      "source": [
        "arr = [i for i in range(20, 50, 2)]\n",
        "print(\"array elements:\", arr)\n",
        "max_element = max(arr)\n",
        "print(\"maximum element:\", max_element)\n",
        "reversed_arr = arr[::-1]\n",
        "print(\"reversed element:\", reversed_arr)"
      ],
      "metadata": {
        "colab": {
          "base_uri": "https://localhost:8080/"
        },
        "id": "pQ06w1B7N8oM",
        "outputId": "41d88550-af92-4f1c-f674-205ae89a22e7"
      },
      "execution_count": 54,
      "outputs": [
        {
          "output_type": "stream",
          "name": "stdout",
          "text": [
            "array elements: [20, 22, 24, 26, 28, 30, 32, 34, 36, 38, 40, 42, 44, 46, 48]\n",
            "maximum element: 48\n",
            "reversed element: [48, 46, 44, 42, 40, 38, 36, 34, 32, 30, 28, 26, 24, 22, 20]\n"
          ]
        }
      ]
    }
  ]
}